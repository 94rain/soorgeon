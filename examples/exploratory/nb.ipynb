{
 "cells": [
  {
   "cell_type": "markdown",
   "id": "c7af9320",
   "metadata": {},
   "source": [
    "# Some exploratory data analysis\n",
    "\n",
    "## Load"
   ]
  },
  {
   "cell_type": "code",
   "execution_count": null,
   "id": "3b302445",
   "metadata": {},
   "outputs": [],
   "source": [
    "import seaborn as sns\n",
    "from sklearn.datasets import load_iris"
   ]
  },
  {
   "cell_type": "code",
   "execution_count": null,
   "id": "2ce8fe25",
   "metadata": {},
   "outputs": [],
   "source": [
    "df = load_iris(as_frame=True)['data']"
   ]
  },
  {
   "cell_type": "markdown",
   "id": "e3192816",
   "metadata": {},
   "source": [
    "## Clean"
   ]
  },
  {
   "cell_type": "code",
   "execution_count": null,
   "id": "e535d29d",
   "metadata": {},
   "outputs": [],
   "source": [
    "df"
   ]
  },
  {
   "cell_type": "code",
   "execution_count": null,
   "id": "72dd4791",
   "metadata": {},
   "outputs": [],
   "source": [
    "df.shape"
   ]
  },
  {
   "cell_type": "code",
   "execution_count": null,
   "id": "bc3d29cc",
   "metadata": {},
   "outputs": [],
   "source": [
    "df = df[df['petal length (cm)'] > 2]"
   ]
  },
  {
   "cell_type": "code",
   "execution_count": null,
   "id": "25e4434c",
   "metadata": {},
   "outputs": [],
   "source": [
    "df.shape"
   ]
  },
  {
   "cell_type": "markdown",
   "id": "d8fbc05c",
   "metadata": {},
   "source": [
    "## Plot"
   ]
  },
  {
   "cell_type": "code",
   "execution_count": null,
   "id": "62114b26",
   "metadata": {},
   "outputs": [],
   "source": [
    "sns.histplot(df['petal length (cm)'])"
   ]
  }
 ],
 "metadata": {
  "kernelspec": {
   "display_name": "Python 3 (ipykernel)",
   "language": "python",
   "name": "python3"
  }
 },
 "nbformat": 4,
 "nbformat_minor": 5
}
